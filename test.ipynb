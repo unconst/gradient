{
 "cells": [
  {
   "cell_type": "code",
   "execution_count": 116,
   "metadata": {},
   "outputs": [
    {
     "name": "stdout",
     "output_type": "stream",
     "text": [
      "d727b1a528ac34b043477f919fa3abc7fcf2e811ba84329c03ab3fe1e0366fb3\n"
     ]
    }
   ],
   "source": [
    "from utils import create_model_hash, get_model_and_tokenizer, create_model_hash, create_gradient, create_gradient_hash\n",
    "from hparams import batch_size, sequence_length, topk_percent\n",
    "\n",
    "model, tokenizer = get_model_and_tokenizer()\n",
    "print (create_model_hash(model))"
   ]
  },
  {
   "cell_type": "code",
   "execution_count": 117,
   "metadata": {},
   "outputs": [
    {
     "name": "stdout",
     "output_type": "stream",
     "text": [
      "c3744a9e53943091c082b78e997b27a2cf9dcd2d0522a727b929acf482e764a8\n"
     ]
    }
   ],
   "source": [
    "gradient = create_gradient(\n",
    "    model = model,\n",
    "    tokenizer = tokenizer,\n",
    "    pages = [1],\n",
    "    batch_size = batch_size,\n",
    "    sequence_length = sequence_length,\n",
    "    device = 'cpu',\n",
    "    topk_percent = topk_percent\n",
    ")\n",
    "print( create_gradient_hash( gradient ) )"
   ]
  },
  {
   "cell_type": "code",
   "execution_count": null,
   "metadata": {},
   "outputs": [],
   "source": []
  }
 ],
 "metadata": {
  "kernelspec": {
   "display_name": "Python 3",
   "language": "python",
   "name": "python3"
  },
  "language_info": {
   "codemirror_mode": {
    "name": "ipython",
    "version": 3
   },
   "file_extension": ".py",
   "mimetype": "text/x-python",
   "name": "python",
   "nbconvert_exporter": "python",
   "pygments_lexer": "ipython3",
   "version": "3.11.7"
  }
 },
 "nbformat": 4,
 "nbformat_minor": 2
}
