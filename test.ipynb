{
 "cells": [
  {
   "cell_type": "code",
   "execution_count": 105,
   "metadata": {},
   "outputs": [],
   "source": [
    "from transformers import GPT2Model, GPT2Tokenizer, GPT2LMHeadModel\n",
    "model_name = \"gpt2\"  # You can change this to any GPT model available on Hugging Face\n",
    "model = GPT2LMHeadModel.from_pretrained(model_name)\n",
    "tokenizer = GPT2Tokenizer.from_pretrained(model_name)"
   ]
  },
  {
   "cell_type": "code",
   "execution_count": 106,
   "metadata": {},
   "outputs": [],
   "source": [
    "import data\n",
    "import torch\n",
    "import typing\n",
    "\n",
    "def topk_gradient(model: torch.nn.Module, topk_percent: float) -> typing.Dict[str, typing.Tuple[torch.Tensor, torch.Tensor]]:\n",
    "    gradient_data = {}\n",
    "    for name, parameter in model.named_parameters():\n",
    "        if parameter.grad is not None:\n",
    "            total_elements = parameter.grad.numel()\n",
    "            topk_elements = int(total_elements * topk_percent)\n",
    "            values, indices = torch.topk(parameter.grad.abs().flatten(), topk_elements)\n",
    "            # Cast indices to int32 and values to float32\n",
    "            indices = indices.to(torch.int32)\n",
    "            values = values.to(torch.float32)\n",
    "            gradient_data[name] = (indices, values)\n",
    "    return gradient_data\n",
    "\n",
    "def create_proof( \n",
    "        model: torch.nn.Module,\n",
    "        tokenizer: 'tokenizer',\n",
    "        pages: typing.List[int], \n",
    "        batch_size: int, \n",
    "        sequence_length: int,\n",
    "        device: str = 'cpu',\n",
    "        topk_percent: float = 0.01\n",
    "    ) -> typing.Dict[str, typing.Tuple[torch.Tensor, torch.Tensor]]:\n",
    "        model.to( device )\n",
    "        batches = list(\n",
    "            data.SubsetFalconLoader(\n",
    "                tokenizer = tokenizer,\n",
    "                batch_size = batch_size, \n",
    "                sequence_length = sequence_length,\n",
    "                rows = pages\n",
    "            )\n",
    "        )\n",
    "        model.zero_grad()\n",
    "        for batch in batches:\n",
    "            inputs = batch.to(device)\n",
    "            outputs = model( inputs, labels=inputs )\n",
    "            outputs.loss /= len(batches)\n",
    "            outputs.loss.backward()\n",
    "            break\n",
    "        \n",
    "        gradient_data = topk_gradient(model, topk_percent)\n",
    "        return gradient_data\n",
    "    \n",
    "def check_equality(\n",
    "        proof_A: typing.Dict[str, typing.Tuple[torch.Tensor, torch.Tensor]],\n",
    "        proof_B: typing.Dict[str, typing.Tuple[torch.Tensor, torch.Tensor]],\n",
    "    ):\n",
    "    for key, (indices_A, values_A) in proof_A.items():\n",
    "        if key not in proof_B:\n",
    "            return False\n",
    "        indices_B, values_B = proof_B[key]\n",
    "        # Ensure tensors are of the same type before comparison\n",
    "        indices_A = indices_A.to(torch.int32)\n",
    "        values_A = values_A.to(torch.float32)\n",
    "        indices_B = indices_B.to(torch.int32)\n",
    "        values_B = values_B.to(torch.float32)\n",
    "        if not (torch.equal(indices_A, indices_B) and torch.allclose(values_A, values_B)):\n",
    "            return False\n",
    "    return True\n"
   ]
  },
  {
   "cell_type": "code",
   "execution_count": 110,
   "metadata": {},
   "outputs": [
    {
     "name": "stderr",
     "output_type": "stream",
     "text": [
      "100%|██████████| 10/10 [00:21<00:00,  2.17s/it]\n"
     ]
    }
   ],
   "source": [
    "import random\n",
    "\n",
    "def accumulate_proofs(model, proofs):\n",
    "    \"\"\"\n",
    "    Accumulate multiple proofs by scatter adding them onto the grad values of the model.\n",
    "    \n",
    "    Args:\n",
    "    - model (torch.nn.Module): The model whose gradients will be updated.\n",
    "    - proofs (List[Dict[str, Tuple[torch.LongTensor, torch.FloatTensor]]]): A list of proofs, \n",
    "      where each proof is a dictionary mapping parameter names to tuples of indices and values.\n",
    "    \"\"\"    \n",
    "    for name, param in model.named_parameters():\n",
    "        if not param.requires_grad: continue\n",
    "        # Initialize a tensor of zeros with the same shape as the parameter's gradient\n",
    "        if param.grad is None: param.grad = torch.zeros_like(param.data)\n",
    "        # Flatten the gradient to apply scatter add\n",
    "        grad_flat = param.grad.view(-1)\n",
    "        # Iterate through each proof and scatter add the values onto the flattened gradient\n",
    "        for proof in proofs:\n",
    "            if name not in proof: continue\n",
    "            indices, values = proof[name]\n",
    "            # Since the gradient is flattened, indices do not need to be unraveled\n",
    "            grad_flat.scatter_add_(0, indices.to(torch.long), values)\n",
    "        # Unflatten the gradient back to its original shape\n",
    "        param.grad = grad_flat.view_as(param.grad)\n",
    "      \n",
    "n = 10  \n",
    "proofs = []\n",
    "from tqdm import tqdm\n",
    "for i in tqdm(range(n)):\n",
    "    page = random.randint(0, data.SubsetFalconLoader.max_pages)\n",
    "    batch_size = 1\n",
    "    sequence_length = 50\n",
    "    device = 'cpu'\n",
    "    topk_percent = 0.01\n",
    "    proofs.append(create_proof( \n",
    "        model,\n",
    "        tokenizer,\n",
    "        pages = [ page ],\n",
    "        batch_size = batch_size,\n",
    "        sequence_length = sequence_length,\n",
    "        device = device,\n",
    "        topk_percent = topk_percent\n",
    "    ))\n",
    "    \n",
    "accumulate_proofs( model, proofs )\n"
   ]
  },
  {
   "cell_type": "code",
   "execution_count": 111,
   "metadata": {},
   "outputs": [],
   "source": [
    "import hashlib\n",
    "\n",
    "def compute_proof_hash(proof, pages, batch_size, sequence_length, topk_percent):\n",
    "    \"\"\"\n",
    "    Compute a hash of the proof and the parameters used to generate the gradient proof.\n",
    "    \n",
    "    Args:\n",
    "    - proofs (Dict[str, Tuple[torch.LongTensor, torch.FloatTensor]]): proof\n",
    "    - pages (List[int]): The pages used to generate the proofs.\n",
    "    - batch_size (int): The batch size used.\n",
    "    - sequence_length (int): The sequence length used.\n",
    "    - topk_percent (float): The topk percent used.\n",
    "    \n",
    "    Returns:\n",
    "    - str: The computed hash.\n",
    "    \"\"\"\n",
    "    # Convert all inputs to string and concatenate\n",
    "    concatenated_inputs = ''.join(proof) + \\\n",
    "                          ''.join([str(page) for page in pages]) + \\\n",
    "                          str(batch_size) + str(sequence_length) + str(topk_percent)\n",
    "    # Encode the concatenated string\n",
    "    encoded_inputs = concatenated_inputs.encode()\n",
    "    # Compute the hash\n",
    "    proof_hash = hashlib.sha256(encoded_inputs).hexdigest()\n",
    "    return proof_hash\n",
    "\n",
    "# Example usage\n",
    "pages = [random.randint(0, data.SubsetFalconLoader.max_pages) for _ in range(2)]\n",
    "hash = compute_proof_hash(proofs[0], pages, batch_size, sequence_length, topk_percent)\n",
    "seal = {\n",
    "    'hash': hash,\n",
    "    'pages': pages,\n",
    "    'batch_size': batch_size,\n",
    "    'sequence_length': sequence_length,\n",
    "    'topk_percent': topk_percent\n",
    "}\n"
   ]
  },
  {
   "cell_type": "code",
   "execution_count": 109,
   "metadata": {},
   "outputs": [
    {
     "data": {
      "text/plain": [
       "True"
      ]
     },
     "execution_count": 109,
     "metadata": {},
     "output_type": "execute_result"
    }
   ],
   "source": [
    "local_proof = create_proof( \n",
    "    model,\n",
    "    tokenizer,\n",
    "    pages = seal['pages'],\n",
    "    batch_size = seal['batch_size'],\n",
    "    sequence_length = seal['sequence_length'],\n",
    "    device = 'cpu',\n",
    "    topk_percent = seal['topk_percent']\n",
    ")\n",
    "recomputed_hash = compute_proof_hash( local_proof, seal['pages'], seal['batch_size'], seal['sequence_length'], seal['topk_percent'])\n",
    "hash_check = recomputed_hash == seal['hash']\n",
    "hash_check\n"
   ]
  },
  {
   "cell_type": "code",
   "execution_count": null,
   "metadata": {},
   "outputs": [],
   "source": []
  },
  {
   "cell_type": "code",
   "execution_count": null,
   "metadata": {},
   "outputs": [],
   "source": []
  }
 ],
 "metadata": {
  "kernelspec": {
   "display_name": "Python 3",
   "language": "python",
   "name": "python3"
  },
  "language_info": {
   "codemirror_mode": {
    "name": "ipython",
    "version": 3
   },
   "file_extension": ".py",
   "mimetype": "text/x-python",
   "name": "python",
   "nbconvert_exporter": "python",
   "pygments_lexer": "ipython3",
   "version": "3.11.7"
  }
 },
 "nbformat": 4,
 "nbformat_minor": 2
}
